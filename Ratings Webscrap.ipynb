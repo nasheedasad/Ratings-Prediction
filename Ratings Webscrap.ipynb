{
 "cells": [
  {
   "cell_type": "code",
   "execution_count": 1,
   "metadata": {},
   "outputs": [],
   "source": [
    "#importing all the required libraries\n",
    "import selenium\n",
    "from selenium import webdriver\n",
    "from selenium.webdriver.common.by import By\n",
    "from selenium.webdriver.support.ui import WebDriverWait\n",
    "from selenium.webdriver.support import expected_conditions as EC\n",
    "import time\n",
    "import requests\n",
    "from bs4 import BeautifulSoup\n",
    "import os\n",
    "import pandas as pd\n",
    "from selenium.common.exceptions import StaleElementReferenceException, NoSuchElementException,ElementNotInteractableException,InvalidArgumentException,InvalidCookieDomainException"
   ]
  },
  {
   "cell_type": "code",
   "execution_count": 2,
   "metadata": {},
   "outputs": [],
   "source": [
    "driver=webdriver.Chrome(r'C:\\Users\\delkl\\Downloads\\chromedriver.exe')"
   ]
  },
  {
   "cell_type": "code",
   "execution_count": 3,
   "metadata": {},
   "outputs": [],
   "source": [
    "url='https://www.flipkart.com/hp-pavilion-gaming-ryzen-5-quad-core-3550h-8-gb-1-tb-hdd-windows-10-home-4-gb-graphics-nvidia-geforce-gtx-1650-15-ec0101ax-laptop/product-reviews/itma1af6bf593dc8?pid=COMFSFNVDXG74QXR&lid=LSTCOMFSFNVDXG74QXRY8FRH2&marketplace=FLIPKART'"
   ]
  },
  {
   "cell_type": "code",
   "execution_count": 9,
   "metadata": {},
   "outputs": [],
   "source": [
    "driver.get(url)"
   ]
  },
  {
   "cell_type": "code",
   "execution_count": 33,
   "metadata": {},
   "outputs": [],
   "source": [
    "Rating=[]\n",
    "Full_review=[]"
   ]
  },
  {
   "cell_type": "markdown",
   "metadata": {},
   "source": [
    "# LAPTOPS"
   ]
  },
  {
   "cell_type": "code",
   "execution_count": 11,
   "metadata": {},
   "outputs": [],
   "source": [
    "URL=[]\n",
    "for j in range(0,147):\n",
    "    review_tags=driver.find_elements_by_xpath(\"//nav[@class='yFHi8N']\")\n",
    "    for i in review_tags:\n",
    "        review_tags1=i.find_element_by_tag_name(\"a\")\n",
    "        URL.append(review_tags1.get_attribute('href'))\n",
    "        \n",
    "        button=driver.find_element_by_xpath(\"//*[contains(text(), 'Next')]\")\n",
    "        driver.execute_script(\"arguments[0].click();\", button)\n",
    "        time.sleep(3)"
   ]
  },
  {
   "cell_type": "code",
   "execution_count": 14,
   "metadata": {},
   "outputs": [],
   "source": [
    "List_of_url = []\n",
    "for i in URL:\n",
    "    if i not in List_of_url:\n",
    "        List_of_url.append(i)"
   ]
  },
  {
   "cell_type": "code",
   "execution_count": 80,
   "metadata": {},
   "outputs": [],
   "source": [
    "driver.get(List_of_url[0])"
   ]
  },
  {
   "cell_type": "code",
   "execution_count": 82,
   "metadata": {},
   "outputs": [
    {
     "name": "stderr",
     "output_type": "stream",
     "text": [
      "100%|██████████| 106/106 [02:01<00:00,  1.15s/it]\n"
     ]
    }
   ],
   "source": [
    "Ratings=[]\n",
    "Full_review=[]\n",
    "from tqdm import tqdm\n",
    "for i in tqdm(List_of_url):\n",
    "    driver.get(i)\n",
    "    \n",
    "    \n",
    "    for j in driver.find_elements_by_xpath(\"//div[@class='_3LWZlK _1BLPMq' or @class='_3LWZlK _32lA32 _1BLPMq' or @class='_3LWZlK _1rdVr6 _1BLPMq']\"):\n",
    "        Ratings.append(j.text)\n",
    "            \n",
    "            \n",
    "    for k in driver.find_elements_by_xpath(\"//div[@class='t-ZTKy']/div/div\"):\n",
    "        Full_review.append(k.text.replace('\\n',' '))"
   ]
  },
  {
   "cell_type": "code",
   "execution_count": 87,
   "metadata": {},
   "outputs": [],
   "source": [
    "url='https://www.flipkart.com/apple-macbook-air-core-i5-5th-gen-8-gb-128-gb-ssd-mac-os-sierra-mqd32hn-a/product-reviews/itm0602f520428ca?pid=COMEVCPQBXBDFJ8C&lid=LSTCOMEVCPQBXBDFJ8C4V6AHG&marketplace=FLIPKART'"
   ]
  },
  {
   "cell_type": "code",
   "execution_count": 88,
   "metadata": {},
   "outputs": [],
   "source": [
    "driver.get(url)"
   ]
  },
  {
   "cell_type": "code",
   "execution_count": 89,
   "metadata": {},
   "outputs": [],
   "source": [
    "for i in range(0,328): \n",
    "    for j in driver.find_elements_by_xpath(\"//div[@class='_3LWZlK _1BLPMq' or @class='_3LWZlK _32lA32 _1BLPMq' or @class='_3LWZlK _1rdVr6 _1BLPMq']\"):\n",
    "        Ratings.append(j.text)\n",
    "            \n",
    "            \n",
    "    for k in driver.find_elements_by_xpath(\"//div[@class='t-ZTKy']/div/div\"):\n",
    "        Full_review.append(k.text.replace('\\n',' '))\n",
    "    \n",
    "    button=driver.find_element_by_xpath(\"//*[contains(text(), 'Next')]\")\n",
    "    driver.execute_script(\"arguments[0].click();\", button)\n",
    "    \n",
    "    time.sleep(2)"
   ]
  },
  {
   "cell_type": "code",
   "execution_count": 92,
   "metadata": {},
   "outputs": [],
   "source": [
    "url='https://www.flipkart.com/asus-celeron-dual-core-4-gb-1-tb-hdd-windows-10-home-x543ma-gq1015t-laptop/product-reviews/itmf8811674edbeb?pid=COMFSKF9UQH8RKYF&lid=LSTCOMFSKF9UQH8RKYFK8UKIL&marketplace=FLIPKART'"
   ]
  },
  {
   "cell_type": "code",
   "execution_count": 99,
   "metadata": {},
   "outputs": [],
   "source": [
    "driver.get(url)"
   ]
  },
  {
   "cell_type": "code",
   "execution_count": 100,
   "metadata": {},
   "outputs": [],
   "source": [
    "for i in range(0,97): \n",
    "    for j in driver.find_elements_by_xpath(\"//div[@class='_3LWZlK _1BLPMq' or @class='_3LWZlK _32lA32 _1BLPMq' or @class='_3LWZlK _1rdVr6 _1BLPMq']\"):\n",
    "        Ratings.append(j.text)\n",
    "            \n",
    "            \n",
    "    for k in driver.find_elements_by_xpath(\"//div[@class='t-ZTKy']/div/div\"):\n",
    "        Full_review.append(k.text.replace('\\n',' '))\n",
    "    \n",
    "    try:\n",
    "        button=driver.find_element_by_xpath(\"//*[contains(text(), 'Next')]\")\n",
    "        driver.execute_script(\"arguments[0].click();\", button)\n",
    "    except NoSuchElementException:\n",
    "        pass\n",
    "    time.sleep(2)"
   ]
  },
  {
   "cell_type": "code",
   "execution_count": 103,
   "metadata": {},
   "outputs": [],
   "source": [
    "url='https://www.flipkart.com/lenovo-ideapad-s145-ryzen-3-dual-core-3200u-4-gb-1-tb-hdd-windows-10-home-s145-15api-thin-light-laptop/product-reviews/itm3028b196c8fe1?pid=COMFJM3T7ZF2Z86F&lid=LSTCOMFJM3T7ZF2Z86FUWBWK9&marketplace=FLIPKART'"
   ]
  },
  {
   "cell_type": "code",
   "execution_count": 104,
   "metadata": {},
   "outputs": [],
   "source": [
    "driver.get(url)"
   ]
  },
  {
   "cell_type": "code",
   "execution_count": 105,
   "metadata": {},
   "outputs": [],
   "source": [
    "for i in range(0,73): \n",
    "    for j in driver.find_elements_by_xpath(\"//div[@class='_3LWZlK _1BLPMq' or @class='_3LWZlK _32lA32 _1BLPMq' or @class='_3LWZlK _1rdVr6 _1BLPMq']\"):\n",
    "        Ratings.append(j.text)\n",
    "            \n",
    "            \n",
    "    for k in driver.find_elements_by_xpath(\"//div[@class='t-ZTKy']/div/div\"):\n",
    "        Full_review.append(k.text.replace('\\n',' '))\n",
    "    \n",
    "    try:\n",
    "        button=driver.find_element_by_xpath(\"//*[contains(text(), 'Next')]\")\n",
    "        driver.execute_script(\"arguments[0].click();\", button)\n",
    "    except NoSuchElementException:\n",
    "        pass\n",
    "    time.sleep(2)"
   ]
  },
  {
   "cell_type": "markdown",
   "metadata": {},
   "source": [
    "# MOBILES"
   ]
  },
  {
   "cell_type": "code",
   "execution_count": 110,
   "metadata": {},
   "outputs": [],
   "source": [
    "url='https://www.flipkart.com/redmi-9-power-electric-green-64-gb/product-reviews/itmca7d78e222ed7?pid=MOBFYZ7AVAXXB2TH&lid=LSTMOBFYZ7AVAXXB2THVSNL0U&marketplace=FLIPKART'"
   ]
  },
  {
   "cell_type": "code",
   "execution_count": 111,
   "metadata": {},
   "outputs": [],
   "source": [
    "driver.get(url)"
   ]
  },
  {
   "cell_type": "code",
   "execution_count": 112,
   "metadata": {},
   "outputs": [],
   "source": [
    "for i in range(0,367): \n",
    "    for j in driver.find_elements_by_xpath(\"//div[@class='_3LWZlK _1BLPMq' or @class='_3LWZlK _32lA32 _1BLPMq' or @class='_3LWZlK _1rdVr6 _1BLPMq']\"):\n",
    "        Ratings.append(j.text)\n",
    "            \n",
    "            \n",
    "    for k in driver.find_elements_by_xpath(\"//div[@class='t-ZTKy']/div/div\"):\n",
    "        Full_review.append(k.text.replace('\\n',' '))\n",
    "    \n",
    "    try:\n",
    "        button=driver.find_element_by_xpath(\"//*[contains(text(), 'Next')]\")\n",
    "        driver.execute_script(\"arguments[0].click();\", button)\n",
    "    except NoSuchElementException:\n",
    "        pass\n",
    "    time.sleep(2)"
   ]
  },
  {
   "cell_type": "code",
   "execution_count": 115,
   "metadata": {},
   "outputs": [],
   "source": [
    "url='https://www.flipkart.com/motorola-g30-dark-pearl-64-gb/product-reviews/itme5ae7fa01f345?pid=MOBFVXGZWDHJHQGZ&lid=LSTMOBFVXGZWDHJHQGZBI5YJU&marketplace=FLIPKART'"
   ]
  },
  {
   "cell_type": "code",
   "execution_count": 116,
   "metadata": {},
   "outputs": [],
   "source": [
    "driver.get(url)"
   ]
  },
  {
   "cell_type": "code",
   "execution_count": 117,
   "metadata": {},
   "outputs": [],
   "source": [
    "for i in range(0,157): \n",
    "    for j in driver.find_elements_by_xpath(\"//div[@class='_3LWZlK _1BLPMq' or @class='_3LWZlK _32lA32 _1BLPMq' or @class='_3LWZlK _1rdVr6 _1BLPMq']\"):\n",
    "        Ratings.append(j.text)\n",
    "            \n",
    "            \n",
    "    for k in driver.find_elements_by_xpath(\"//div[@class='t-ZTKy']/div/div\"):\n",
    "        Full_review.append(k.text.replace('\\n',' '))\n",
    "    \n",
    "    try:\n",
    "        button=driver.find_element_by_xpath(\"//*[contains(text(), 'Next')]\")\n",
    "        driver.execute_script(\"arguments[0].click();\", button)\n",
    "    except NoSuchElementException:\n",
    "        pass\n",
    "    time.sleep(2)"
   ]
  },
  {
   "cell_type": "code",
   "execution_count": 120,
   "metadata": {},
   "outputs": [],
   "source": [
    "url='https://www.flipkart.com/motorola-e7-plus-misty-blue-64-gb/product-reviews/itm9a59be77f1cd2?pid=MOBFTYWW8QWUYDZU&lid=LSTMOBFTYWW8QWUYDZUM6DQNI&marketplace=FLIPKART'"
   ]
  },
  {
   "cell_type": "code",
   "execution_count": 121,
   "metadata": {},
   "outputs": [],
   "source": [
    "driver.get(url)"
   ]
  },
  {
   "cell_type": "code",
   "execution_count": 122,
   "metadata": {},
   "outputs": [],
   "source": [
    "for i in range(0,373): \n",
    "    for j in driver.find_elements_by_xpath(\"//div[@class='_3LWZlK _1BLPMq' or @class='_3LWZlK _32lA32 _1BLPMq' or @class='_3LWZlK _1rdVr6 _1BLPMq']\"):\n",
    "        Ratings.append(j.text)\n",
    "            \n",
    "            \n",
    "    for k in driver.find_elements_by_xpath(\"//div[@class='t-ZTKy']/div/div\"):\n",
    "        Full_review.append(k.text.replace('\\n',' '))\n",
    "    \n",
    "    try:\n",
    "        button=driver.find_element_by_xpath(\"//*[contains(text(), 'Next')]\")\n",
    "        driver.execute_script(\"arguments[0].click();\", button)\n",
    "    except NoSuchElementException:\n",
    "        pass\n",
    "    time.sleep(2)"
   ]
  },
  {
   "cell_type": "markdown",
   "metadata": {},
   "source": [
    "# HEADPHONES"
   ]
  },
  {
   "cell_type": "code",
   "execution_count": 125,
   "metadata": {},
   "outputs": [],
   "source": [
    "url='https://www.flipkart.com/mivi-collar-classic-fast-charging-bluetooth-headset/product-reviews/itmd6a3a8e12473f?pid=ACCGFGJTGWRHZUAF&lid=LSTACCGFGJTGWRHZUAF3XZAXJ&marketplace=FLIPKART'"
   ]
  },
  {
   "cell_type": "code",
   "execution_count": 126,
   "metadata": {},
   "outputs": [],
   "source": [
    "driver.get(url)"
   ]
  },
  {
   "cell_type": "code",
   "execution_count": 127,
   "metadata": {},
   "outputs": [],
   "source": [
    "for i in range(0,216): \n",
    "    for j in driver.find_elements_by_xpath(\"//div[@class='_3LWZlK _1BLPMq' or @class='_3LWZlK _32lA32 _1BLPMq' or @class='_3LWZlK _1rdVr6 _1BLPMq']\"):\n",
    "        Ratings.append(j.text)\n",
    "            \n",
    "            \n",
    "    for k in driver.find_elements_by_xpath(\"//div[@class='t-ZTKy']/div/div\"):\n",
    "        Full_review.append(k.text.replace('\\n',' '))\n",
    "    \n",
    "    try:\n",
    "        button=driver.find_element_by_xpath(\"//*[contains(text(), 'Next')]\")\n",
    "        driver.execute_script(\"arguments[0].click();\", button)\n",
    "    except NoSuchElementException:\n",
    "        pass\n",
    "    time.sleep(2)"
   ]
  },
  {
   "cell_type": "code",
   "execution_count": 130,
   "metadata": {},
   "outputs": [],
   "source": [
    "url='https://www.flipkart.com/ubon-ub-770-wired-headset/product-reviews/itmc75e7cc4986df?pid=ACCFHCAPHTPCCXZR&lid=LSTACCFHCAPHTPCCXZRKLYRFC&marketplace=FLIPKART'"
   ]
  },
  {
   "cell_type": "code",
   "execution_count": 131,
   "metadata": {},
   "outputs": [],
   "source": [
    "driver.get(url)"
   ]
  },
  {
   "cell_type": "code",
   "execution_count": 132,
   "metadata": {},
   "outputs": [],
   "source": [
    "for i in range(0,234): \n",
    "    for j in driver.find_elements_by_xpath(\"//div[@class='_3LWZlK _1BLPMq' or @class='_3LWZlK _32lA32 _1BLPMq' or @class='_3LWZlK _1rdVr6 _1BLPMq']\"):\n",
    "        Ratings.append(j.text)\n",
    "            \n",
    "            \n",
    "    for k in driver.find_elements_by_xpath(\"//div[@class='t-ZTKy']/div/div\"):\n",
    "        Full_review.append(k.text.replace('\\n',' '))\n",
    "    \n",
    "    try:\n",
    "        button=driver.find_element_by_xpath(\"//*[contains(text(), 'Next')]\")\n",
    "        driver.execute_script(\"arguments[0].click();\", button)\n",
    "    except NoSuchElementException:\n",
    "        pass\n",
    "    time.sleep(2)"
   ]
  },
  {
   "cell_type": "markdown",
   "metadata": {},
   "source": [
    "# SMART WATCHES"
   ]
  },
  {
   "cell_type": "code",
   "execution_count": 135,
   "metadata": {},
   "outputs": [],
   "source": [
    "url='https://www.flipkart.com/alonzo-dz09-new-phone-smartwatch/product-reviews/itm44bd98f3bf1e7?pid=SMWF5BFJHTDYCYYD&lid=LSTSMWF5BFJHTDYCYYDJIL5XV&marketplace=FLIPKART'"
   ]
  },
  {
   "cell_type": "code",
   "execution_count": 140,
   "metadata": {},
   "outputs": [],
   "source": [
    "driver.get(url)"
   ]
  },
  {
   "cell_type": "code",
   "execution_count": 141,
   "metadata": {},
   "outputs": [],
   "source": [
    "for i in range(0,106): \n",
    "    for j in driver.find_elements_by_xpath(\"//div[@class='_3LWZlK _1BLPMq' or @class='_3LWZlK _32lA32 _1BLPMq' or @class='_3LWZlK _1rdVr6 _1BLPMq']\"):\n",
    "        Ratings.append(j.text)\n",
    "            \n",
    "            \n",
    "    for k in driver.find_elements_by_xpath(\"//div[@class='t-ZTKy']/div/div\"):\n",
    "        Full_review.append(k.text.replace('\\n',' '))\n",
    "    \n",
    "    try:\n",
    "        button=driver.find_element_by_xpath(\"//*[contains(text(), 'Next')]\")\n",
    "        driver.execute_script(\"arguments[0].click();\", button)\n",
    "    except NoSuchElementException:\n",
    "        pass\n",
    "    time.sleep(2)"
   ]
  },
  {
   "cell_type": "code",
   "execution_count": 144,
   "metadata": {},
   "outputs": [],
   "source": [
    "url='https://www.flipkart.com/life-like-v8-bluetooth-sim-tf-card-slot-smartwatch/product-reviews/itm8deac9de357e6?pid=SMWEQJPTGWKCBDUD&lid=LSTSMWEQJPTGWKCBDUDPTTYUT&marketplace=FLIPKART'"
   ]
  },
  {
   "cell_type": "code",
   "execution_count": 145,
   "metadata": {},
   "outputs": [],
   "source": [
    "driver.get(url)"
   ]
  },
  {
   "cell_type": "code",
   "execution_count": 146,
   "metadata": {},
   "outputs": [],
   "source": [
    "for i in range(0,51): \n",
    "    for j in driver.find_elements_by_xpath(\"//div[@class='_3LWZlK _1BLPMq' or @class='_3LWZlK _32lA32 _1BLPMq' or @class='_3LWZlK _1rdVr6 _1BLPMq']\"):\n",
    "        Ratings.append(j.text)\n",
    "            \n",
    "            \n",
    "    for k in driver.find_elements_by_xpath(\"//div[@class='t-ZTKy']/div/div\"):\n",
    "        Full_review.append(k.text.replace('\\n',' '))\n",
    "    \n",
    "    try:\n",
    "        button=driver.find_element_by_xpath(\"//*[contains(text(), 'Next')]\")\n",
    "        driver.execute_script(\"arguments[0].click();\", button)\n",
    "    except NoSuchElementException:\n",
    "        pass\n",
    "    time.sleep(2)"
   ]
  },
  {
   "cell_type": "code",
   "execution_count": 149,
   "metadata": {},
   "outputs": [],
   "source": [
    "url='https://www.flipkart.com/fitbit-versa-special-smartwatch/product-reviews/itme0fd47f890e7f?pid=SMWFDYBW3829GKEY&lid=LSTSMWFDYBW3829GKEY8DNWTD&marketplace=FLIPKART'"
   ]
  },
  {
   "cell_type": "code",
   "execution_count": 150,
   "metadata": {},
   "outputs": [],
   "source": [
    "driver.get(url)"
   ]
  },
  {
   "cell_type": "code",
   "execution_count": 151,
   "metadata": {},
   "outputs": [],
   "source": [
    "for i in range(0,39): \n",
    "    for j in driver.find_elements_by_xpath(\"//div[@class='_3LWZlK _1BLPMq' or @class='_3LWZlK _32lA32 _1BLPMq' or @class='_3LWZlK _1rdVr6 _1BLPMq']\"):\n",
    "        Ratings.append(j.text)\n",
    "            \n",
    "            \n",
    "    for k in driver.find_elements_by_xpath(\"//div[@class='t-ZTKy']/div/div\"):\n",
    "        Full_review.append(k.text.replace('\\n',' '))\n",
    "    \n",
    "    try:\n",
    "        button=driver.find_element_by_xpath(\"//*[contains(text(), 'Next')]\")\n",
    "        driver.execute_script(\"arguments[0].click();\", button)\n",
    "    except NoSuchElementException:\n",
    "        pass\n",
    "    time.sleep(2)"
   ]
  },
  {
   "cell_type": "markdown",
   "metadata": {},
   "source": [
    "# CAMERAS"
   ]
  },
  {
   "cell_type": "code",
   "execution_count": 154,
   "metadata": {},
   "outputs": [],
   "source": [
    "url='https://www.flipkart.com/canon-eos-3000d-dslr-camera-1-body-18-55-mm-lens-battery-battery-charger-usb-cable/product-reviews/itmed1b57035d2fc?pid=CAMF3DHJURPEMNRN&lid=LSTCAMF3DHJURPEMNRNYD4BKP&marketplace=FLIPKART'"
   ]
  },
  {
   "cell_type": "code",
   "execution_count": 155,
   "metadata": {},
   "outputs": [],
   "source": [
    "driver.get(url)"
   ]
  },
  {
   "cell_type": "code",
   "execution_count": 156,
   "metadata": {},
   "outputs": [],
   "source": [
    "for i in range(0,330): \n",
    "    for j in driver.find_elements_by_xpath(\"//div[@class='_3LWZlK _1BLPMq' or @class='_3LWZlK _32lA32 _1BLPMq' or @class='_3LWZlK _1rdVr6 _1BLPMq']\"):\n",
    "        Ratings.append(j.text)\n",
    "            \n",
    "            \n",
    "    for k in driver.find_elements_by_xpath(\"//div[@class='t-ZTKy']/div/div\"):\n",
    "        Full_review.append(k.text.replace('\\n',' '))\n",
    "    \n",
    "    try:\n",
    "        button=driver.find_element_by_xpath(\"//*[contains(text(), 'Next')]\")\n",
    "        driver.execute_script(\"arguments[0].click();\", button)\n",
    "    except NoSuchElementException:\n",
    "        pass\n",
    "    time.sleep(2)"
   ]
  },
  {
   "cell_type": "code",
   "execution_count": 159,
   "metadata": {},
   "outputs": [],
   "source": [
    "url='https://www.flipkart.com/nikon-d5600-dslr-camera-body-dual-lens-af-p-dx-nikkor-18-55-mm-f-3-5-5-6g-vr-70-300-f-4-5-6-3g-ed/product-reviews/itm8bd75efa91403?pid=DLLEZVB8MDXDYTHG&lid=LSTDLLEZVB8MDXDYTHGP8CUFI&marketplace=FLIPKART'"
   ]
  },
  {
   "cell_type": "code",
   "execution_count": 160,
   "metadata": {},
   "outputs": [],
   "source": [
    "driver.get(url)"
   ]
  },
  {
   "cell_type": "code",
   "execution_count": 161,
   "metadata": {},
   "outputs": [],
   "source": [
    "for i in range(0,169): \n",
    "    for j in driver.find_elements_by_xpath(\"//div[@class='_3LWZlK _1BLPMq' or @class='_3LWZlK _32lA32 _1BLPMq' or @class='_3LWZlK _1rdVr6 _1BLPMq']\"):\n",
    "        Ratings.append(j.text)\n",
    "            \n",
    "            \n",
    "    for k in driver.find_elements_by_xpath(\"//div[@class='t-ZTKy']/div/div\"):\n",
    "        Full_review.append(k.text.replace('\\n',' '))\n",
    "    \n",
    "    try:\n",
    "        button=driver.find_element_by_xpath(\"//*[contains(text(), 'Next')]\")\n",
    "        driver.execute_script(\"arguments[0].click();\", button)\n",
    "    except NoSuchElementException:\n",
    "        pass\n",
    "    time.sleep(2)"
   ]
  },
  {
   "cell_type": "markdown",
   "metadata": {},
   "source": [
    "# PRINTERS"
   ]
  },
  {
   "cell_type": "code",
   "execution_count": 164,
   "metadata": {},
   "outputs": [],
   "source": [
    "url='https://www.flipkart.com/canon-pixma-mg2470-all-in-one-inkjet-printer/product-reviews/itmdqatqsyzyzffn?pid=PRNDQAR9KZEKSKRF&lid=LSTPRNDQAR9KZEKSKRFEMB7B0&marketplace=FLIPKART'"
   ]
  },
  {
   "cell_type": "code",
   "execution_count": 165,
   "metadata": {},
   "outputs": [],
   "source": [
    "driver.get(url)"
   ]
  },
  {
   "cell_type": "code",
   "execution_count": 166,
   "metadata": {},
   "outputs": [],
   "source": [
    "for i in range(0,610): \n",
    "    for j in driver.find_elements_by_xpath(\"//div[@class='_3LWZlK _1BLPMq' or @class='_3LWZlK _32lA32 _1BLPMq' or @class='_3LWZlK _1rdVr6 _1BLPMq']\"):\n",
    "        Ratings.append(j.text)\n",
    "            \n",
    "            \n",
    "    for k in driver.find_elements_by_xpath(\"//div[@class='t-ZTKy']/div/div\"):\n",
    "        Full_review.append(k.text.replace('\\n',' '))\n",
    "    \n",
    "    try:\n",
    "        button=driver.find_element_by_xpath(\"//*[contains(text(), 'Next')]\")\n",
    "        driver.execute_script(\"arguments[0].click();\", button)\n",
    "    except NoSuchElementException:\n",
    "        pass\n",
    "    time.sleep(2)"
   ]
  },
  {
   "cell_type": "code",
   "execution_count": 169,
   "metadata": {},
   "outputs": [],
   "source": [
    "url='https://www.flipkart.com/hp-deskjet-2331-multi-function-color-printer/product-reviews/itm5708dbe303a73?pid=PRNFTXAWZ9DZ2KHR&lid=LSTPRNFTXAWZ9DZ2KHRP7ZAXV&marketplace=FLIPKART'"
   ]
  },
  {
   "cell_type": "code",
   "execution_count": 170,
   "metadata": {},
   "outputs": [],
   "source": [
    "driver.get(url)"
   ]
  },
  {
   "cell_type": "code",
   "execution_count": 171,
   "metadata": {},
   "outputs": [],
   "source": [
    "for i in range(0,52): \n",
    "    for j in driver.find_elements_by_xpath(\"//div[@class='_3LWZlK _1BLPMq' or @class='_3LWZlK _32lA32 _1BLPMq' or @class='_3LWZlK _1rdVr6 _1BLPMq']\"):\n",
    "        Ratings.append(j.text)\n",
    "            \n",
    "            \n",
    "    for k in driver.find_elements_by_xpath(\"//div[@class='t-ZTKy']/div/div\"):\n",
    "        Full_review.append(k.text.replace('\\n',' '))\n",
    "    \n",
    "    try:\n",
    "        button=driver.find_element_by_xpath(\"//*[contains(text(), 'Next')]\")\n",
    "        driver.execute_script(\"arguments[0].click();\", button)\n",
    "    except NoSuchElementException:\n",
    "        pass\n",
    "    time.sleep(2)"
   ]
  },
  {
   "cell_type": "markdown",
   "metadata": {},
   "source": [
    "# MONITORS"
   ]
  },
  {
   "cell_type": "code",
   "execution_count": 174,
   "metadata": {},
   "outputs": [],
   "source": [
    "url='https://www.flipkart.com/dell-18-5-inch-hd-led-backlit-tn-panel-monitor-d1918h/product-reviews/itmewm8z6awyx9rr?pid=MONEWM8ZKY38PWVP&lid=LSTMONEWM8ZKY38PWVPIKWEMH&marketplace=FLIPKART'"
   ]
  },
  {
   "cell_type": "code",
   "execution_count": 175,
   "metadata": {},
   "outputs": [],
   "source": [
    "driver.get(url)"
   ]
  },
  {
   "cell_type": "code",
   "execution_count": 176,
   "metadata": {},
   "outputs": [],
   "source": [
    "for i in range(0,58): \n",
    "    for j in driver.find_elements_by_xpath(\"//div[@class='_3LWZlK _1BLPMq' or @class='_3LWZlK _32lA32 _1BLPMq' or @class='_3LWZlK _1rdVr6 _1BLPMq']\"):\n",
    "        Ratings.append(j.text)\n",
    "            \n",
    "            \n",
    "    for k in driver.find_elements_by_xpath(\"//div[@class='t-ZTKy']/div/div\"):\n",
    "        Full_review.append(k.text.replace('\\n',' '))\n",
    "    \n",
    "    try:\n",
    "        button=driver.find_element_by_xpath(\"//*[contains(text(), 'Next')]\")\n",
    "        driver.execute_script(\"arguments[0].click();\", button)\n",
    "    except NoSuchElementException:\n",
    "        pass\n",
    "    time.sleep(2)"
   ]
  },
  {
   "cell_type": "code",
   "execution_count": 179,
   "metadata": {},
   "outputs": [],
   "source": [
    "url='https://www.flipkart.com/hp-23-8-inch-full-hd-led-backlit-ips-panel-monitor-24es/product-reviews/itm5613f46e3d8db?pid=MONEQFE5PQNQHHZF&lid=LSTMONEQFE5PQNQHHZFESEDRU&marketplace=FLIPKART'"
   ]
  },
  {
   "cell_type": "code",
   "execution_count": 180,
   "metadata": {},
   "outputs": [],
   "source": [
    "driver.get(url)"
   ]
  },
  {
   "cell_type": "code",
   "execution_count": 181,
   "metadata": {},
   "outputs": [],
   "source": [
    "for i in range(0,39): \n",
    "    for j in driver.find_elements_by_xpath(\"//div[@class='_3LWZlK _1BLPMq' or @class='_3LWZlK _32lA32 _1BLPMq' or @class='_3LWZlK _1rdVr6 _1BLPMq']\"):\n",
    "        Ratings.append(j.text)\n",
    "            \n",
    "            \n",
    "    for k in driver.find_elements_by_xpath(\"//div[@class='t-ZTKy']/div/div\"):\n",
    "        Full_review.append(k.text.replace('\\n',' '))\n",
    "    \n",
    "    try:\n",
    "        button=driver.find_element_by_xpath(\"//*[contains(text(), 'Next')]\")\n",
    "        driver.execute_script(\"arguments[0].click();\", button)\n",
    "    except NoSuchElementException:\n",
    "        pass\n",
    "    time.sleep(2)"
   ]
  },
  {
   "cell_type": "markdown",
   "metadata": {},
   "source": [
    "# HOME THEATRES"
   ]
  },
  {
   "cell_type": "code",
   "execution_count": 184,
   "metadata": {},
   "outputs": [],
   "source": [
    "url='https://www.flipkart.com/intex-it-2616-bt-55-w-bluetooth-home-theatre/product-reviews/itm835ba2477ca67?pid=ACCFNMEYJNHSNCWN&lid=LSTACCFNMEYJNHSNCWNXWFCRW&marketplace=FLIPKART'"
   ]
  },
  {
   "cell_type": "code",
   "execution_count": 185,
   "metadata": {},
   "outputs": [],
   "source": [
    "driver.get(url)"
   ]
  },
  {
   "cell_type": "code",
   "execution_count": 186,
   "metadata": {},
   "outputs": [],
   "source": [
    "for i in range(0,216): \n",
    "    for j in driver.find_elements_by_xpath(\"//div[@class='_3LWZlK _1BLPMq' or @class='_3LWZlK _32lA32 _1BLPMq' or @class='_3LWZlK _1rdVr6 _1BLPMq']\"):\n",
    "        Ratings.append(j.text)\n",
    "            \n",
    "            \n",
    "    for k in driver.find_elements_by_xpath(\"//div[@class='t-ZTKy']/div/div\"):\n",
    "        Full_review.append(k.text.replace('\\n',' '))\n",
    "    \n",
    "    try:\n",
    "        button=driver.find_element_by_xpath(\"//*[contains(text(), 'Next')]\")\n",
    "        driver.execute_script(\"arguments[0].click();\", button)\n",
    "    except NoSuchElementException:\n",
    "        pass\n",
    "    time.sleep(2)"
   ]
  },
  {
   "cell_type": "code",
   "execution_count": 189,
   "metadata": {},
   "outputs": [],
   "source": [
    "url='https://www.flipkart.com/intex-2622-portable-bluetooth-home-theatre/product-reviews/itmd7aeef0b49f57?pid=ACCEPBDW89GY8ZYU&lid=LSTACCEPBDW89GY8ZYUZCVLEQ&marketplace=FLIPKART'"
   ]
  },
  {
   "cell_type": "code",
   "execution_count": 190,
   "metadata": {},
   "outputs": [],
   "source": [
    "driver.get(url)"
   ]
  },
  {
   "cell_type": "code",
   "execution_count": 191,
   "metadata": {},
   "outputs": [],
   "source": [
    "for i in range(0,134): \n",
    "    for j in driver.find_elements_by_xpath(\"//div[@class='_3LWZlK _1BLPMq' or @class='_3LWZlK _32lA32 _1BLPMq' or @class='_3LWZlK _1rdVr6 _1BLPMq']\"):\n",
    "        Ratings.append(j.text)\n",
    "            \n",
    "            \n",
    "    for k in driver.find_elements_by_xpath(\"//div[@class='t-ZTKy']/div/div\"):\n",
    "        Full_review.append(k.text.replace('\\n',' '))\n",
    "    \n",
    "    try:\n",
    "        button=driver.find_element_by_xpath(\"//*[contains(text(), 'Next')]\")\n",
    "        driver.execute_script(\"arguments[0].click();\", button)\n",
    "    except NoSuchElementException:\n",
    "        pass\n",
    "    time.sleep(2)"
   ]
  },
  {
   "cell_type": "markdown",
   "metadata": {},
   "source": [
    "# ROUTERS"
   ]
  },
  {
   "cell_type": "code",
   "execution_count": 194,
   "metadata": {},
   "outputs": [],
   "source": [
    "url='https://www.flipkart.com/mi-r4cm-300-mbps-router/product-reviews/itm4ed0ab10f43e5?pid=RTRFZ9XMNKDBSHCY&lid=LSTRTRFZ9XMNKDBSHCY2N0IPP&marketplace=FLIPKART'"
   ]
  },
  {
   "cell_type": "code",
   "execution_count": 195,
   "metadata": {},
   "outputs": [],
   "source": [
    "driver.get(url)"
   ]
  },
  {
   "cell_type": "code",
   "execution_count": 196,
   "metadata": {},
   "outputs": [],
   "source": [
    "for i in range(0,143): \n",
    "    for j in driver.find_elements_by_xpath(\"//div[@class='_3LWZlK _1BLPMq' or @class='_3LWZlK _32lA32 _1BLPMq' or @class='_3LWZlK _1rdVr6 _1BLPMq']\"):\n",
    "        Ratings.append(j.text)\n",
    "            \n",
    "            \n",
    "    for k in driver.find_elements_by_xpath(\"//div[@class='t-ZTKy']/div/div\"):\n",
    "        Full_review.append(k.text.replace('\\n',' '))\n",
    "    \n",
    "    try:\n",
    "        button=driver.find_element_by_xpath(\"//*[contains(text(), 'Next')]\")\n",
    "        driver.execute_script(\"arguments[0].click();\", button)\n",
    "    except NoSuchElementException:\n",
    "        pass\n",
    "    time.sleep(2)"
   ]
  },
  {
   "cell_type": "code",
   "execution_count": 199,
   "metadata": {},
   "outputs": [],
   "source": [
    "url='https://www.flipkart.com/tenda-n301-300-mbps-router/product-reviews/itmehkf7am7tpawg?pid=RTRDYEYZKF884XRZ&lid=LSTRTRDYEYZKF884XRZA1WPYP&marketplace=FLIPKART'"
   ]
  },
  {
   "cell_type": "code",
   "execution_count": 200,
   "metadata": {},
   "outputs": [],
   "source": [
    "driver.get(url)"
   ]
  },
  {
   "cell_type": "code",
   "execution_count": 201,
   "metadata": {},
   "outputs": [],
   "source": [
    "for i in range(0,162): \n",
    "    for j in driver.find_elements_by_xpath(\"//div[@class='_3LWZlK _1BLPMq' or @class='_3LWZlK _32lA32 _1BLPMq' or @class='_3LWZlK _1rdVr6 _1BLPMq']\"):\n",
    "        Ratings.append(j.text)\n",
    "            \n",
    "            \n",
    "    for k in driver.find_elements_by_xpath(\"//div[@class='t-ZTKy']/div/div\"):\n",
    "        Full_review.append(k.text.replace('\\n',' '))\n",
    "    \n",
    "    try:\n",
    "        button=driver.find_element_by_xpath(\"//*[contains(text(), 'Next')]\")\n",
    "        driver.execute_script(\"arguments[0].click();\", button)\n",
    "    except NoSuchElementException:\n",
    "        pass\n",
    "    time.sleep(2)"
   ]
  },
  {
   "cell_type": "code",
   "execution_count": 204,
   "metadata": {},
   "outputs": [
    {
     "name": "stdout",
     "output_type": "stream",
     "text": [
      "40573 40573\n"
     ]
    }
   ],
   "source": [
    "print(len(Ratings),len(Full_review))"
   ]
  },
  {
   "cell_type": "code",
   "execution_count": 205,
   "metadata": {},
   "outputs": [],
   "source": [
    "Reviews=pd.DataFrame({})\n",
    "Reviews['Ratings']=Ratings\n",
    "Reviews['Full_review']=Full_review"
   ]
  },
  {
   "cell_type": "code",
   "execution_count": 206,
   "metadata": {},
   "outputs": [
    {
     "data": {
      "text/html": [
       "<div>\n",
       "<style scoped>\n",
       "    .dataframe tbody tr th:only-of-type {\n",
       "        vertical-align: middle;\n",
       "    }\n",
       "\n",
       "    .dataframe tbody tr th {\n",
       "        vertical-align: top;\n",
       "    }\n",
       "\n",
       "    .dataframe thead th {\n",
       "        text-align: right;\n",
       "    }\n",
       "</style>\n",
       "<table border=\"1\" class=\"dataframe\">\n",
       "  <thead>\n",
       "    <tr style=\"text-align: right;\">\n",
       "      <th></th>\n",
       "      <th>Ratings</th>\n",
       "      <th>Full_review</th>\n",
       "    </tr>\n",
       "  </thead>\n",
       "  <tbody>\n",
       "    <tr>\n",
       "      <th>0</th>\n",
       "      <td>5</td>\n",
       "      <td>This is the best laptop in this range.I reciev...</td>\n",
       "    </tr>\n",
       "    <tr>\n",
       "      <th>1</th>\n",
       "      <td>5</td>\n",
       "      <td>Good product as used of now.... Everything is ...</td>\n",
       "    </tr>\n",
       "    <tr>\n",
       "      <th>2</th>\n",
       "      <td>5</td>\n",
       "      <td>AWESOME LAPTOP. It supports many high spec gam...</td>\n",
       "    </tr>\n",
       "    <tr>\n",
       "      <th>3</th>\n",
       "      <td>4</td>\n",
       "      <td>For that price... it's exceptionally good. Pla...</td>\n",
       "    </tr>\n",
       "    <tr>\n",
       "      <th>4</th>\n",
       "      <td>4</td>\n",
       "      <td>RAM upgrade is must do because the useable RAM...</td>\n",
       "    </tr>\n",
       "    <tr>\n",
       "      <th>...</th>\n",
       "      <td>...</td>\n",
       "      <td>...</td>\n",
       "    </tr>\n",
       "    <tr>\n",
       "      <th>40568</th>\n",
       "      <td>5</td>\n",
       "      <td>Product received is of excellent quality with ...</td>\n",
       "    </tr>\n",
       "    <tr>\n",
       "      <th>40569</th>\n",
       "      <td>1</td>\n",
       "      <td>returnd bcoz of low range...thankfully got ref...</td>\n",
       "    </tr>\n",
       "    <tr>\n",
       "      <th>40570</th>\n",
       "      <td>1</td>\n",
       "      <td>no signal strength, customer support also very...</td>\n",
       "    </tr>\n",
       "    <tr>\n",
       "      <th>40571</th>\n",
       "      <td>1</td>\n",
       "      <td>I bought 2 pice and both have same issue in it...</td>\n",
       "    </tr>\n",
       "    <tr>\n",
       "      <th>40572</th>\n",
       "      <td>5</td>\n",
       "      <td>its a bravo product, I highly recommend this p...</td>\n",
       "    </tr>\n",
       "  </tbody>\n",
       "</table>\n",
       "<p>40573 rows × 2 columns</p>\n",
       "</div>"
      ],
      "text/plain": [
       "      Ratings                                        Full_review\n",
       "0           5  This is the best laptop in this range.I reciev...\n",
       "1           5  Good product as used of now.... Everything is ...\n",
       "2           5  AWESOME LAPTOP. It supports many high spec gam...\n",
       "3           4  For that price... it's exceptionally good. Pla...\n",
       "4           4  RAM upgrade is must do because the useable RAM...\n",
       "...       ...                                                ...\n",
       "40568       5  Product received is of excellent quality with ...\n",
       "40569       1  returnd bcoz of low range...thankfully got ref...\n",
       "40570       1  no signal strength, customer support also very...\n",
       "40571       1  I bought 2 pice and both have same issue in it...\n",
       "40572       5  its a bravo product, I highly recommend this p...\n",
       "\n",
       "[40573 rows x 2 columns]"
      ]
     },
     "execution_count": 206,
     "metadata": {},
     "output_type": "execute_result"
    }
   ],
   "source": [
    "Reviews"
   ]
  },
  {
   "cell_type": "code",
   "execution_count": 207,
   "metadata": {},
   "outputs": [],
   "source": [
    "Reviews.to_csv(\"Reviews.csv\")"
   ]
  },
  {
   "cell_type": "code",
   "execution_count": null,
   "metadata": {},
   "outputs": [],
   "source": []
  }
 ],
 "metadata": {
  "kernelspec": {
   "display_name": "Python 3",
   "language": "python",
   "name": "python3"
  },
  "language_info": {
   "codemirror_mode": {
    "name": "ipython",
    "version": 3
   },
   "file_extension": ".py",
   "mimetype": "text/x-python",
   "name": "python",
   "nbconvert_exporter": "python",
   "pygments_lexer": "ipython3",
   "version": "3.8.5"
  }
 },
 "nbformat": 4,
 "nbformat_minor": 4
}
